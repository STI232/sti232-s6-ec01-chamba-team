{
 "cells": [
  {
   "cell_type": "markdown",
   "metadata": {},
   "source": [
    "## Tarea 1\n",
    "##### Dataset de salarios (Científicos de datos)\n",
    "\n",
    "https://www.kaggle.com/datasets/iamsouravbanerjee/data-science-salaries-2023\n"
   ]
  },
  {
   "cell_type": "code",
   "execution_count": 2,
   "metadata": {
    "scrolled": true
   },
   "outputs": [
    {
     "name": "stderr",
     "output_type": "stream",
     "text": [
      "Matplotlib is building the font cache; this may take a moment.\n"
     ]
    },
    {
     "data": {
      "text/html": [
       "<div>\n",
       "<style scoped>\n",
       "    .dataframe tbody tr th:only-of-type {\n",
       "        vertical-align: middle;\n",
       "    }\n",
       "\n",
       "    .dataframe tbody tr th {\n",
       "        vertical-align: top;\n",
       "    }\n",
       "\n",
       "    .dataframe thead th {\n",
       "        text-align: right;\n",
       "    }\n",
       "</style>\n",
       "<table border=\"1\" class=\"dataframe\">\n",
       "  <thead>\n",
       "    <tr style=\"text-align: right;\">\n",
       "      <th></th>\n",
       "      <th>Job Title</th>\n",
       "      <th>Employment Type</th>\n",
       "      <th>Experience Level</th>\n",
       "      <th>Expertise Level</th>\n",
       "      <th>Salary</th>\n",
       "      <th>Salary Currency</th>\n",
       "      <th>Company Location</th>\n",
       "      <th>Salary in USD</th>\n",
       "      <th>Employee Residence</th>\n",
       "      <th>Company Size</th>\n",
       "      <th>Year</th>\n",
       "    </tr>\n",
       "  </thead>\n",
       "  <tbody>\n",
       "    <tr>\n",
       "      <th>0</th>\n",
       "      <td>Data Engineer</td>\n",
       "      <td>Full-Time</td>\n",
       "      <td>Senior</td>\n",
       "      <td>Expert</td>\n",
       "      <td>210000</td>\n",
       "      <td>United States Dollar</td>\n",
       "      <td>United States</td>\n",
       "      <td>210000</td>\n",
       "      <td>United States</td>\n",
       "      <td>Medium</td>\n",
       "      <td>2023</td>\n",
       "    </tr>\n",
       "    <tr>\n",
       "      <th>1</th>\n",
       "      <td>Data Engineer</td>\n",
       "      <td>Full-Time</td>\n",
       "      <td>Senior</td>\n",
       "      <td>Expert</td>\n",
       "      <td>165000</td>\n",
       "      <td>United States Dollar</td>\n",
       "      <td>United States</td>\n",
       "      <td>165000</td>\n",
       "      <td>United States</td>\n",
       "      <td>Medium</td>\n",
       "      <td>2023</td>\n",
       "    </tr>\n",
       "    <tr>\n",
       "      <th>2</th>\n",
       "      <td>Data Engineer</td>\n",
       "      <td>Full-Time</td>\n",
       "      <td>Senior</td>\n",
       "      <td>Expert</td>\n",
       "      <td>185900</td>\n",
       "      <td>United States Dollar</td>\n",
       "      <td>United States</td>\n",
       "      <td>185900</td>\n",
       "      <td>United States</td>\n",
       "      <td>Medium</td>\n",
       "      <td>2023</td>\n",
       "    </tr>\n",
       "    <tr>\n",
       "      <th>3</th>\n",
       "      <td>Data Engineer</td>\n",
       "      <td>Full-Time</td>\n",
       "      <td>Senior</td>\n",
       "      <td>Expert</td>\n",
       "      <td>129300</td>\n",
       "      <td>United States Dollar</td>\n",
       "      <td>United States</td>\n",
       "      <td>129300</td>\n",
       "      <td>United States</td>\n",
       "      <td>Medium</td>\n",
       "      <td>2023</td>\n",
       "    </tr>\n",
       "    <tr>\n",
       "      <th>4</th>\n",
       "      <td>Data Scientist</td>\n",
       "      <td>Full-Time</td>\n",
       "      <td>Senior</td>\n",
       "      <td>Expert</td>\n",
       "      <td>140000</td>\n",
       "      <td>United States Dollar</td>\n",
       "      <td>United States</td>\n",
       "      <td>140000</td>\n",
       "      <td>United States</td>\n",
       "      <td>Medium</td>\n",
       "      <td>2023</td>\n",
       "    </tr>\n",
       "    <tr>\n",
       "      <th>5</th>\n",
       "      <td>Data Scientist</td>\n",
       "      <td>Full-Time</td>\n",
       "      <td>Senior</td>\n",
       "      <td>Expert</td>\n",
       "      <td>126000</td>\n",
       "      <td>United States Dollar</td>\n",
       "      <td>United States</td>\n",
       "      <td>126000</td>\n",
       "      <td>United States</td>\n",
       "      <td>Medium</td>\n",
       "      <td>2023</td>\n",
       "    </tr>\n",
       "    <tr>\n",
       "      <th>6</th>\n",
       "      <td>Data Scientist</td>\n",
       "      <td>Full-Time</td>\n",
       "      <td>Senior</td>\n",
       "      <td>Expert</td>\n",
       "      <td>170000</td>\n",
       "      <td>United States Dollar</td>\n",
       "      <td>United States</td>\n",
       "      <td>170000</td>\n",
       "      <td>United States</td>\n",
       "      <td>Medium</td>\n",
       "      <td>2023</td>\n",
       "    </tr>\n",
       "    <tr>\n",
       "      <th>7</th>\n",
       "      <td>Data Scientist</td>\n",
       "      <td>Full-Time</td>\n",
       "      <td>Senior</td>\n",
       "      <td>Expert</td>\n",
       "      <td>130000</td>\n",
       "      <td>United States Dollar</td>\n",
       "      <td>United States</td>\n",
       "      <td>130000</td>\n",
       "      <td>United States</td>\n",
       "      <td>Medium</td>\n",
       "      <td>2023</td>\n",
       "    </tr>\n",
       "    <tr>\n",
       "      <th>8</th>\n",
       "      <td>Data Engineer</td>\n",
       "      <td>Full-Time</td>\n",
       "      <td>Mid</td>\n",
       "      <td>Intermediate</td>\n",
       "      <td>85000</td>\n",
       "      <td>British Pound Sterling</td>\n",
       "      <td>United Kingdom</td>\n",
       "      <td>104584</td>\n",
       "      <td>United Kingdom</td>\n",
       "      <td>Medium</td>\n",
       "      <td>2023</td>\n",
       "    </tr>\n",
       "    <tr>\n",
       "      <th>9</th>\n",
       "      <td>Data Engineer</td>\n",
       "      <td>Full-Time</td>\n",
       "      <td>Mid</td>\n",
       "      <td>Intermediate</td>\n",
       "      <td>75000</td>\n",
       "      <td>British Pound Sterling</td>\n",
       "      <td>United Kingdom</td>\n",
       "      <td>92280</td>\n",
       "      <td>United Kingdom</td>\n",
       "      <td>Medium</td>\n",
       "      <td>2023</td>\n",
       "    </tr>\n",
       "  </tbody>\n",
       "</table>\n",
       "</div>"
      ],
      "text/plain": [
       "        Job Title Employment Type Experience Level Expertise Level  Salary  \\\n",
       "0   Data Engineer       Full-Time           Senior          Expert  210000   \n",
       "1   Data Engineer       Full-Time           Senior          Expert  165000   \n",
       "2   Data Engineer       Full-Time           Senior          Expert  185900   \n",
       "3   Data Engineer       Full-Time           Senior          Expert  129300   \n",
       "4  Data Scientist       Full-Time           Senior          Expert  140000   \n",
       "5  Data Scientist       Full-Time           Senior          Expert  126000   \n",
       "6  Data Scientist       Full-Time           Senior          Expert  170000   \n",
       "7  Data Scientist       Full-Time           Senior          Expert  130000   \n",
       "8   Data Engineer       Full-Time              Mid    Intermediate   85000   \n",
       "9   Data Engineer       Full-Time              Mid    Intermediate   75000   \n",
       "\n",
       "          Salary Currency Company Location  Salary in USD Employee Residence  \\\n",
       "0    United States Dollar    United States         210000      United States   \n",
       "1    United States Dollar    United States         165000      United States   \n",
       "2    United States Dollar    United States         185900      United States   \n",
       "3    United States Dollar    United States         129300      United States   \n",
       "4    United States Dollar    United States         140000      United States   \n",
       "5    United States Dollar    United States         126000      United States   \n",
       "6    United States Dollar    United States         170000      United States   \n",
       "7    United States Dollar    United States         130000      United States   \n",
       "8  British Pound Sterling   United Kingdom         104584     United Kingdom   \n",
       "9  British Pound Sterling   United Kingdom          92280     United Kingdom   \n",
       "\n",
       "  Company Size  Year  \n",
       "0       Medium  2023  \n",
       "1       Medium  2023  \n",
       "2       Medium  2023  \n",
       "3       Medium  2023  \n",
       "4       Medium  2023  \n",
       "5       Medium  2023  \n",
       "6       Medium  2023  \n",
       "7       Medium  2023  \n",
       "8       Medium  2023  \n",
       "9       Medium  2023  "
      ]
     },
     "execution_count": 2,
     "metadata": {},
     "output_type": "execute_result"
    }
   ],
   "source": [
    "import pandas as pd\n",
    "import matplotlib.pyplot as plt\n",
    "df = pd.read_csv(\"Latest_Data_Science_Salaries.csv\")\n",
    "df.head(10)"
   ]
  },
  {
   "cell_type": "markdown",
   "metadata": {},
   "source": [
    "# Ejercicio en Clase:\n",
    "\n",
    "Para este ejercicio debes realizar los siguientes pasos de manera anticipada los siguientes procesos:\n",
    "- Cargar el conjunto de datos desde un archivo CSV utilizando pandas.\n",
    "- Explorar y familiarizarse con la estructura del conjunto de datos.\n",
    "- Calcular estadísticas descriptivas, como el promedio, la mediana y la desviación estándar, de variables relevantes del conjunto de datos general.\n",
    "\n",
    "#### Acciones por ejecutar\n",
    "\n",
    "1. ¿Cúantos posibles \"Job Title\" existen en el Dataset?\n",
    "2. ¿Cúales son los \"Employment Type\" y en qué frecuencia se presentan en el Dataset?\n",
    "3. ¿Cuáles son los \"Expertise Level\" y \"Experience Level\" y cuál es el salario promedio general de cada uno?\n",
    "4. ¿Cuáles son los \"Salary Currency\" y a qué tasa está covertido respecto al dolar cada uno?\n",
    "5. ¿En cuántos paises diferentes se encuentran los empleados (\"Employee Residence\")?\n",
    "6. ¿Cuál salario promedio por \"Job Title\" agrupado?\n",
    "7. ¿Cuál es el salario promedio por país de residencia (Employee Residence)?\n",
    "8. ¿Cuál es el \"Salary in USD\" máximo y mínimo?¿A qué registro pertenece?\n",
    "9. ¿Cuál es el salario promedio (en USD) por rol por tamaño de compañía?\n",
    "10. muestre los datos agrupados por tamaño de la compañía, país y salario promedio."
   ]
  },
  {
   "cell_type": "markdown",
   "metadata": {},
   "source": [
    "### Propuesta de solución\n"
   ]
  },
  {
   "cell_type": "code",
   "execution_count": 4,
   "metadata": {},
   "outputs": [
    {
     "name": "stdout",
     "output_type": "stream",
     "text": [
      "Cantidad de posibles \"Job Title\": 111\n"
     ]
    }
   ],
   "source": [
    "#Pregunta 01\n",
    "job_titles = df['Job Title'].unique()\n",
    "print(f'Cantidad de posibles \"Job Title\": {len(job_titles)}')"
   ]
  },
  {
   "cell_type": "code",
   "execution_count": 5,
   "metadata": {},
   "outputs": [
    {
     "name": "stdout",
     "output_type": "stream",
     "text": [
      "Full-Time    3261\n",
      "Contract       15\n",
      "Part-Time      13\n",
      "Freelance      11\n",
      "Name: Employment Type, dtype: int64\n"
     ]
    }
   ],
   "source": [
    "# Pregunta 02\n",
    "frecuencia_empleo = df['Employment Type'].value_counts()\n",
    "print(frecuencia_empleo)"
   ]
  },
  {
   "cell_type": "code",
   "execution_count": 37,
   "metadata": {},
   "outputs": [
    {
     "name": "stdout",
     "output_type": "stream",
     "text": [
      "Valores únicos de Expertise Level: ['Expert' 'Intermediate' 'Director' 'Junior']\n",
      "Salario promedio por Expertise Level:\n",
      "Expertise Level\n",
      "Director        237493.006849\n",
      "Expert          181572.525908\n",
      "Intermediate    259106.441656\n",
      "Junior          202933.167808\n",
      "Name: Salary, dtype: float64\n",
      "\n",
      "Valores únicos de Experience Level: ['Senior' 'Mid' 'Executive' 'Entry']\n",
      "Salario promedio por Experience Level:\n",
      "Experience Level\n",
      "Entry        202933.167808\n",
      "Executive    237493.006849\n",
      "Mid          259106.441656\n",
      "Senior       181572.525908\n",
      "Name: Salary, dtype: float64\n"
     ]
    }
   ],
   "source": [
    "#Pregunta 03\n",
    "expertise_level = df['Expertise Level'].unique()\n",
    "experience_level = df['Experience Level'].unique()\n",
    "\n",
    "expertise_promedy = df.groupby('Expertise Level')['Salary'].mean()\n",
    "experience_promedy = df.groupby('Experience Level')['Salary'].mean()\n",
    "\n",
    "print(\"Valores únicos de Expertise Level:\", expertise_level)\n",
    "print(\"Salario promedio por Expertise Level:\")\n",
    "print(expertise_promedy)\n",
    "\n",
    "print(\"\\nValores únicos de Experience Level:\", experience_level)\n",
    "print(\"Salario promedio por Experience Level:\")\n",
    "print(experience_promedy)"
   ]
  },
  {
   "cell_type": "code",
   "execution_count": 46,
   "metadata": {},
   "outputs": [
    {
     "name": "stdout",
     "output_type": "stream",
     "text": [
      "Divisa: United States Dollar, Tasa de conversión a USD: 100000\n",
      "Divisa: British Pound Sterling, Tasa de conversión a USD: 45000\n",
      "Divisa: Euro, Tasa de conversión a USD: 24000\n",
      "Divisa: Indian Rupee, Tasa de conversión a USD: 7000000\n",
      "Divisa: Philippine Peso, Tasa de conversión a USD: 866000\n",
      "Divisa: Canadian Dollar, Tasa de conversión a USD: 110000\n",
      "Divisa: Turkish Lira, Tasa de conversión a USD: 250000\n",
      "Divisa: Brazilian Real, Tasa de conversión a USD: 102000\n",
      "Divisa: Swiss Franc, Tasa de conversión a USD: 115000\n",
      "Divisa: Australian Dollar, Tasa de conversión a USD: 120000\n",
      "Divisa: Polish Zloty, Tasa de conversión a USD: 180000\n",
      "Divisa: Norwegian Krone, Tasa de conversión a USD: 800000\n",
      "Divisa: Japanese Yen, Tasa de conversión a USD: 4450000\n",
      "Divisa: South African Rand, Tasa de conversión a USD: 627000\n",
      "Divisa: Hong Kong Dollar, Tasa de conversión a USD: 510000\n",
      "Divisa: Singapore Dollar, Tasa de conversión a USD: 160000\n",
      "Divisa: Israeli New Shekel, Tasa de conversión a USD: 1500000\n",
      "Divisa: Thai Baht, Tasa de conversión a USD: 840000\n",
      "Divisa: Hungarian Forint, Tasa de conversión a USD: 11000000\n",
      "Divisa: Danish Krone, Tasa de conversión a USD: 300000\n",
      "Divisa: Mexican Peso, Tasa de conversión a USD: 720000\n",
      "Divisa: Chilean Peso, Tasa de conversión a USD: 30400000\n"
     ]
    }
   ],
   "source": [
    "#Pregunta 04\n",
    "filtered_data = df[df[\"Salary Currency\"].notna()]\n",
    "\n",
    "conversion_rates = {}\n",
    "\n",
    "for index, row in filtered_data.iterrows():\n",
    "    currency = row[\"Salary Currency\"]\n",
    "    rate = row[\"Salary\"]\n",
    "    conversion_rates[currency] = rate\n",
    "\n",
    "for currency, rate in conversion_rates.items():\n",
    "    print(f\"Divisa: {currency}, Tasa de conversión a USD: {rate}\")"
   ]
  },
  {
   "cell_type": "code",
   "execution_count": 13,
   "metadata": {},
   "outputs": [
    {
     "name": "stdout",
     "output_type": "stream",
     "text": [
      "Los empleados se encuentran en 83 países diferentes\n"
     ]
    }
   ],
   "source": [
    "#Pregunta 05\n",
    "emplooye_residence = df['Employee Residence']\n",
    "unique_countries = set(emplooye_residence)\n",
    "countries_number = len(unique_countries)\n",
    "print(f\"Los empleados se encuentran en {countries_number} países diferentes\")"
   ]
  },
  {
   "cell_type": "code",
   "execution_count": 22,
   "metadata": {},
   "outputs": [
    {
     "name": "stdout",
     "output_type": "stream",
     "text": [
      "Job Title\n",
      "AI Architect                       233500.000000\n",
      "AI Developer                       133666.666667\n",
      "AI Programmer                       62500.000000\n",
      "AI Scientist                       263444.444444\n",
      "AWS Data Architect                 258000.000000\n",
      "                                       ...      \n",
      "Sales Data Analyst                  60000.000000\n",
      "Software Data Engineer             120000.000000\n",
      "Staff Data Analyst                  97499.000000\n",
      "Staff Data Scientist               134500.000000\n",
      "Staff Machine Learning Engineer    185000.000000\n",
      "Name: Salary, Length: 111, dtype: float64\n"
     ]
    }
   ],
   "source": [
    "#Pregunta 06\n",
    "salary_promedy = df.groupby('Job Title')['Salary'].mean()\n",
    "print(salary_promedy)"
   ]
  },
  {
   "cell_type": "code",
   "execution_count": 29,
   "metadata": {},
   "outputs": [
    {
     "name": "stdout",
     "output_type": "stream",
     "text": [
      "Employee Residence\n",
      "Algeria                 100000.000000\n",
      "American Samoa           45555.000000\n",
      "Andorra                  47000.000000\n",
      "Argentina                56444.444444\n",
      "Armenia                  50000.000000\n",
      "                            ...      \n",
      "United Arab Emirates    100000.000000\n",
      "United Kingdom           96596.857143\n",
      "United States           159794.726050\n",
      "Uzbekistan               82000.000000\n",
      "Viet Nam                 44200.000000\n",
      "Name: Salary, Length: 83, dtype: float64\n"
     ]
    }
   ],
   "source": [
    "#Pregunta 07\n",
    "salary_promedy_per_country = df.groupby('Employee Residence')['Salary'].mean()\n",
    "print(salary_promedy_per_country)\n"
   ]
  },
  {
   "cell_type": "code",
   "execution_count": 32,
   "metadata": {},
   "outputs": [
    {
     "name": "stdout",
     "output_type": "stream",
     "text": [
      "Salario máximo en USD: 450000\n",
      "Registro correspondiente:\n",
      "               Job Title Employment Type Experience Level Expertise Level  \\\n",
      "3085  Research Scientist       Full-Time              Mid    Intermediate   \n",
      "\n",
      "      Salary       Salary Currency Company Location  Salary in USD  \\\n",
      "3085  450000  United States Dollar    United States         450000   \n",
      "\n",
      "     Employee Residence Company Size  Year  \n",
      "3085      United States       Medium  2020  \n",
      "\n",
      "Salario mínimo en USD: 15000\n",
      "Registro correspondiente:\n",
      "                       Job Title Employment Type Experience Level  \\\n",
      "1335          Staff Data Analyst       Full-Time        Executive   \n",
      "2641  Machine Learning Developer       Full-Time            Entry   \n",
      "2826                Data Analyst       Full-Time            Entry   \n",
      "\n",
      "     Expertise Level  Salary       Salary Currency Company Location  \\\n",
      "1335        Director   15000  United States Dollar           Canada   \n",
      "2641          Junior   15000  United States Dollar         Thailand   \n",
      "2826          Junior   15000  United States Dollar        Indonesia   \n",
      "\n",
      "      Salary in USD Employee Residence Company Size  Year  \n",
      "1335          15000            Nigeria       Medium  2020  \n",
      "2641          15000           Thailand        Large  2021  \n",
      "2826          15000          Indonesia        Large  2022  \n"
     ]
    }
   ],
   "source": [
    "#Pregunta 08\n",
    "maximum_salary = df['Salary in USD'].max()\n",
    "maximum_salary_register = df[df['Salary in USD'] == maximum_salary]\n",
    "\n",
    "minimum_salary = df['Salary in USD'].min()\n",
    "minimum_register_salary = df[df['Salary in USD'] == minimum_salary]\n",
    "\n",
    "print(f\"Salario máximo en USD: {maximum_salary}\")\n",
    "print(\"Registro correspondiente:\")\n",
    "print(maximum_salary_register)\n",
    "\n",
    "print(f\"\\nSalario mínimo en USD: {minimum_salary}\")\n",
    "print(\"Registro correspondiente:\")\n",
    "print(minimum_register_salary)"
   ]
  },
  {
   "cell_type": "code",
   "execution_count": 54,
   "metadata": {},
   "outputs": [
    {
     "name": "stdout",
     "output_type": "stream",
     "text": [
      "  Company Size         Salary\n",
      "0        Large  459661.271493\n",
      "1       Medium  158990.875877\n",
      "2        Small  276999.874172\n"
     ]
    }
   ],
   "source": [
    "# Pregunta 09\n",
    "salary_mean = df.groupby(['Company Size'])['Salary'].mean().reset_index()\n",
    "\n",
    "print(salary_mean)"
   ]
  },
  {
   "cell_type": "code",
   "execution_count": 48,
   "metadata": {},
   "outputs": [
    {
     "name": "stdout",
     "output_type": "stream",
     "text": [
      "    Company Size      Company Location         Salary\n",
      "0          Large        American Samoa   50000.000000\n",
      "1          Large             Argentina   50000.000000\n",
      "2          Large             Australia  113000.000000\n",
      "3          Large               Austria   69666.666667\n",
      "4          Large               Belgium   80000.000000\n",
      "..           ...                   ...            ...\n",
      "130        Small                Turkey   20000.000000\n",
      "131        Small               Ukraine   50000.000000\n",
      "132        Small  United Arab Emirates   92500.000000\n",
      "133        Small        United Kingdom   82555.555556\n",
      "134        Small         United States  112766.385965\n",
      "\n",
      "[135 rows x 3 columns]\n"
     ]
    }
   ],
   "source": [
    "#Pregunta 10\n",
    "data_group = df.groupby(['Company Size', 'Company Location'])['Salary'].mean().reset_index()\n",
    "\n",
    "print(data_group)"
   ]
  }
 ],
 "metadata": {
  "kernelspec": {
   "display_name": "Python 3 (ipykernel)",
   "language": "python",
   "name": "python3"
  },
  "language_info": {
   "codemirror_mode": {
    "name": "ipython",
    "version": 3
   },
   "file_extension": ".py",
   "mimetype": "text/x-python",
   "name": "python",
   "nbconvert_exporter": "python",
   "pygments_lexer": "ipython3",
   "version": "3.11.3"
  }
 },
 "nbformat": 4,
 "nbformat_minor": 4
}
